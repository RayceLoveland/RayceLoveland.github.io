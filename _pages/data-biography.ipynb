{
 "cells": [
  {
   "cell_type": "markdown",
   "id": "90915ff3-c0c3-4ed3-825d-881754ae64f0",
   "metadata": {},
   "source": [
    "## Data Biography ##\n",
    "This is my data biography "
   ]
  },
  {
   "cell_type": "code",
   "execution_count": null,
   "id": "625235a3-ba28-4e5c-88d9-170914b08bfe",
   "metadata": {},
   "outputs": [],
   "source": []
  }
 ],
 "metadata": {
  "kernelspec": {
   "display_name": "Python [conda env:base] *",
   "language": "python",
   "name": "conda-base-py"
  },
  "language_info": {
   "codemirror_mode": {
    "name": "ipython",
    "version": 3
   },
   "file_extension": ".py",
   "mimetype": "text/x-python",
   "name": "python",
   "nbconvert_exporter": "python",
   "pygments_lexer": "ipython3",
   "version": "3.12.7"
  }
 },
 "nbformat": 4,
 "nbformat_minor": 5
}
