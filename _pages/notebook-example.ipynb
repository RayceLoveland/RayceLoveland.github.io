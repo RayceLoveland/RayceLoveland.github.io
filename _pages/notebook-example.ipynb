{
 "cells": [
  {
   "cell_type": "markdown",
   "id": "7b62c1e9-8735-4d8f-b0dd-c92dae402851",
   "metadata": {},
   "source": [
    "This is an example of KKK Members"
   ]
  },
  {
   "cell_type": "code",
   "execution_count": null,
   "id": "1fdb93ac-c520-4d6a-a60e-d3b0a00cc021",
   "metadata": {},
   "outputs": [],
   "source": []
  }
 ],
 "metadata": {
  "kernelspec": {
   "display_name": "Python [conda env:base] *",
   "language": "python",
   "name": "conda-base-py"
  },
  "language_info": {
   "codemirror_mode": {
    "name": "ipython",
    "version": 3
   },
   "file_extension": ".py",
   "mimetype": "text/x-python",
   "name": "python",
   "nbconvert_exporter": "python",
   "pygments_lexer": "ipython3",
   "version": "3.12.7"
  }
 },
 "nbformat": 4,
 "nbformat_minor": 5
}
